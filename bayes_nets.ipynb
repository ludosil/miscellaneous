{
 "cells": [
  {
   "cell_type": "markdown",
   "id": "7be8e842",
   "metadata": {},
   "source": [
    "# What is a Bayes net?\n",
    "\n",
    "A Bayes net is a probabilistic graphical model, or PGM. It is a simple and intuitive way to represent a joint probability distribution that allows us to encode dependencies between the variables we are trying to model.\n",
    "\n",
    "A Bayes net can be used to represent both discrete and continuous valued variables. Initially we will look at discrete binary variables, and then add layers to the modelling for more complex networks.\n",
    "\n",
    "Bayes nets are used for different purposes. They can be simulated directly, so as to generate instances of the joint probability distributions. They can also be used for inference; that is, given an observation....\n",
    "\n",
    "\n",
    "\n"
   ]
  },
  {
   "cell_type": "markdown",
   "id": "0c5b924c",
   "metadata": {},
   "source": [
    "# Representing a Bayes net\n",
    "\n",
    "Conceptually a Bayes net is simple; all we need is the node mappings, or dependencies, and the probabilities that define the conditional / unconditional probability distributions. In terms of defining a structure, we can use a namedtuple to define the following attributes:\n",
    "- name: maps a convenient shorthand node label to the to the full text\n",
    "- deps: dependencies that map nodes to their dependencies\n",
    "- probs: probabilities at node variables, to be defined later\n",
    "- ind_nodes: independent nodes with no dependencies\n",
    "\n",
    "The _ind_nodes_ attributes is useful for being able to iterate through the net. This can be initialised to None and then calculated. It could also be supplied explicitly, but that's unlikely to be feasible for larger problems.\n",
    "\n",
    "In terms of examples we'll look at two.\n",
    "\n",
    "1. The alarm network: https://github.com/jpmcarrilho/AIMA/blob/master/probability-4e.ipynb \n",
    "    _The story, from Judea Pearl, is that there is a house burglar alarm, which can be triggered by either a burglary or an earthquake. If the alarm sounds, one or both of the neighbors, John and Mary, might call the owwner to say the alarm is sounding._\n",
    "\n",
    "2. This one also looked fun! https://www.cs.cmu.edu/afs/cs.cmu.edu/project/learn-43/lib/photoz/.g/web/glossary/bayesnet.html"
   ]
  },
  {
   "cell_type": "code",
   "execution_count": 1,
   "id": "5fe140fb",
   "metadata": {
    "ExecuteTime": {
     "end_time": "2022-04-11T13:18:31.430995Z",
     "start_time": "2022-04-11T13:18:31.421993Z"
    }
   },
   "outputs": [],
   "source": [
    "from collections import namedtuple\n",
    "\n",
    "BayesNet = namedtuple('BayesNet', 'names deps probs ind_nodes')"
   ]
  },
  {
   "cell_type": "code",
   "execution_count": 2,
   "id": "52b1332d",
   "metadata": {
    "ExecuteTime": {
     "end_time": "2022-04-11T13:18:31.461999Z",
     "start_time": "2022-04-11T13:18:31.435994Z"
    }
   },
   "outputs": [],
   "source": [
    "bayesnet_alarm = BayesNet(names = {'B' : 'Burglary',\n",
    "                                   'E' : 'Earthquake',\n",
    "                                   'A' : 'Alarm',\n",
    "                                   'M' : 'Mary calls',\n",
    "                                   'J' : 'John calls'},\n",
    "                          deps = {'B' : ['A'],\n",
    "                                  'E' : ['A'],\n",
    "                                  'A' : ['M', 'J']},\n",
    "                          probs = None,\n",
    "                          ind_nodes = None)\n",
    "\n",
    "bayesnet_mars_medical = BayesNet(names = {'V' : 'Visited Mars',\n",
    "                                          'C' : 'Common cold',\n",
    "                                          'M' : 'Martian death flu',\n",
    "                                          'R' : 'Runny nose',\n",
    "                                          'H' : 'Headache',\n",
    "                                          'S' : 'Spontaneous combustion'},\n",
    "                                 deps = {'V' : ['M'],\n",
    "                                         'M' : ['R', 'H', 'S'],\n",
    "                                         'C' : ['R', 'H']},\n",
    "                                 probs = None,\n",
    "                                 ind_nodes = None)"
   ]
  },
  {
   "cell_type": "markdown",
   "id": "4dfdf263",
   "metadata": {},
   "source": [
    "## Extract info and add to Bayes net\n",
    "\n",
    "Before proceeding we define a function to extract the independent nodes, as implied from the dependencies, and update the Bayes nets we defined."
   ]
  },
  {
   "cell_type": "code",
   "execution_count": 3,
   "id": "b13c66b1",
   "metadata": {
    "ExecuteTime": {
     "end_time": "2022-04-11T13:18:31.494000Z",
     "start_time": "2022-04-11T13:18:31.467997Z"
    }
   },
   "outputs": [],
   "source": [
    "def add_ind_nodes(bn):\n",
    "    all_nodes_with_parents = set([nn for nns in bn.deps.values() for nn in nns])\n",
    "    ind_nodes = [n for n in bn.deps.keys() if n not in all_nodes_with_parents]\n",
    "    return BayesNet(names = bn.names,\n",
    "                    deps = bn.deps,\n",
    "                    probs = bn.probs,\n",
    "                    ind_nodes = ind_nodes)  \n",
    "    \n",
    "bayesnet_alarm = add_ind_nodes(bayesnet_alarm)\n",
    "bayesnet_mars_medical = add_ind_nodes(bayesnet_mars_medical)\n",
    "\n",
    "# check as expected - sort since no ordering on dictionary keys\n",
    "assert (sorted(bayesnet_alarm.ind_nodes) == ['B', 'E'])\n",
    "assert (sorted(bayesnet_mars_medical.ind_nodes) == ['C', 'V'])"
   ]
  },
  {
   "cell_type": "markdown",
   "id": "afbe6b4f",
   "metadata": {},
   "source": [
    "## Visualise the Bayes net\n",
    "\n",
    "Define a function to visualise the Bayes net and try it on the two examples."
   ]
  },
  {
   "cell_type": "code",
   "execution_count": 4,
   "id": "95aad9aa",
   "metadata": {
    "ExecuteTime": {
     "end_time": "2022-04-11T13:18:31.540000Z",
     "start_time": "2022-04-11T13:18:31.497000Z"
    }
   },
   "outputs": [],
   "source": [
    "import graphviz\n",
    "\n",
    "def visualise_bn(bn, names=True):\n",
    "    g = graphviz.Digraph()\n",
    "    for node, next_nodes in bn.deps.items():\n",
    "        for nn in next_nodes:\n",
    "            if names:\n",
    "                g.edge(bn.names[node], bn.names[nn])\n",
    "            else:\n",
    "                g.edge(node, nn)\n",
    "    return g"
   ]
  },
  {
   "cell_type": "code",
   "execution_count": 5,
   "id": "f07899fe",
   "metadata": {
    "ExecuteTime": {
     "end_time": "2022-04-11T13:18:32.074212Z",
     "start_time": "2022-04-11T13:18:31.543001Z"
    }
   },
   "outputs": [
    {
     "data": {
      "image/svg+xml": [
       "<?xml version=\"1.0\" encoding=\"UTF-8\" standalone=\"no\"?>\r\n",
       "<!DOCTYPE svg PUBLIC \"-//W3C//DTD SVG 1.1//EN\"\r\n",
       " \"http://www.w3.org/Graphics/SVG/1.1/DTD/svg11.dtd\">\r\n",
       "<!-- Generated by graphviz version 2.38.0 (20140413.2041)\r\n",
       " -->\r\n",
       "<!-- Title: %3 Pages: 1 -->\r\n",
       "<svg width=\"219pt\" height=\"188pt\"\r\n",
       " viewBox=\"0.00 0.00 219.44 188.00\" xmlns=\"http://www.w3.org/2000/svg\" xmlns:xlink=\"http://www.w3.org/1999/xlink\">\r\n",
       "<g id=\"graph0\" class=\"graph\" transform=\"scale(1 1) rotate(0) translate(4 184)\">\r\n",
       "<title>%3</title>\r\n",
       "<polygon fill=\"white\" stroke=\"none\" points=\"-4,4 -4,-184 215.441,-184 215.441,4 -4,4\"/>\r\n",
       "<!-- Burglary -->\r\n",
       "<g id=\"node1\" class=\"node\"><title>Burglary</title>\r\n",
       "<ellipse fill=\"none\" stroke=\"black\" cx=\"49.0957\" cy=\"-162\" rx=\"41.6928\" ry=\"18\"/>\r\n",
       "<text text-anchor=\"middle\" x=\"49.0957\" y=\"-158.3\" font-family=\"Times New Roman,serif\" font-size=\"14.00\">Burglary</text>\r\n",
       "</g>\r\n",
       "<!-- Alarm -->\r\n",
       "<g id=\"node2\" class=\"node\"><title>Alarm</title>\r\n",
       "<ellipse fill=\"none\" stroke=\"black\" cx=\"104.096\" cy=\"-90\" rx=\"32.4942\" ry=\"18\"/>\r\n",
       "<text text-anchor=\"middle\" x=\"104.096\" y=\"-86.3\" font-family=\"Times New Roman,serif\" font-size=\"14.00\">Alarm</text>\r\n",
       "</g>\r\n",
       "<!-- Burglary&#45;&gt;Alarm -->\r\n",
       "<g id=\"edge1\" class=\"edge\"><title>Burglary&#45;&gt;Alarm</title>\r\n",
       "<path fill=\"none\" stroke=\"black\" d=\"M61.8521,-144.765C68.893,-135.804 77.7645,-124.512 85.5579,-114.594\"/>\r\n",
       "<polygon fill=\"black\" stroke=\"black\" points=\"88.3608,-116.691 91.7869,-106.666 82.8565,-112.367 88.3608,-116.691\"/>\r\n",
       "</g>\r\n",
       "<!-- Mary calls -->\r\n",
       "<g id=\"node4\" class=\"node\"><title>Mary calls</title>\r\n",
       "<ellipse fill=\"none\" stroke=\"black\" cx=\"48.0957\" cy=\"-18\" rx=\"48.1917\" ry=\"18\"/>\r\n",
       "<text text-anchor=\"middle\" x=\"48.0957\" y=\"-14.3\" font-family=\"Times New Roman,serif\" font-size=\"14.00\">Mary calls</text>\r\n",
       "</g>\r\n",
       "<!-- Alarm&#45;&gt;Mary calls -->\r\n",
       "<g id=\"edge3\" class=\"edge\"><title>Alarm&#45;&gt;Mary calls</title>\r\n",
       "<path fill=\"none\" stroke=\"black\" d=\"M91.3885,-73.1159C84.4302,-64.4181 75.6543,-53.4483 67.8259,-43.6627\"/>\r\n",
       "<polygon fill=\"black\" stroke=\"black\" points=\"70.5136,-41.4196 61.5336,-35.7973 65.0476,-45.7925 70.5136,-41.4196\"/>\r\n",
       "</g>\r\n",
       "<!-- John calls -->\r\n",
       "<g id=\"node5\" class=\"node\"><title>John calls</title>\r\n",
       "<ellipse fill=\"none\" stroke=\"black\" cx=\"160.096\" cy=\"-18\" rx=\"46.2923\" ry=\"18\"/>\r\n",
       "<text text-anchor=\"middle\" x=\"160.096\" y=\"-14.3\" font-family=\"Times New Roman,serif\" font-size=\"14.00\">John calls</text>\r\n",
       "</g>\r\n",
       "<!-- Alarm&#45;&gt;John calls -->\r\n",
       "<g id=\"edge4\" class=\"edge\"><title>Alarm&#45;&gt;John calls</title>\r\n",
       "<path fill=\"none\" stroke=\"black\" d=\"M116.803,-73.1159C123.862,-64.292 132.792,-53.1298 140.705,-43.238\"/>\r\n",
       "<polygon fill=\"black\" stroke=\"black\" points=\"143.536,-45.3022 147.05,-35.307 138.07,-40.9293 143.536,-45.3022\"/>\r\n",
       "</g>\r\n",
       "<!-- Earthquake -->\r\n",
       "<g id=\"node3\" class=\"node\"><title>Earthquake</title>\r\n",
       "<ellipse fill=\"none\" stroke=\"black\" cx=\"160.096\" cy=\"-162\" rx=\"51.1914\" ry=\"18\"/>\r\n",
       "<text text-anchor=\"middle\" x=\"160.096\" y=\"-158.3\" font-family=\"Times New Roman,serif\" font-size=\"14.00\">Earthquake</text>\r\n",
       "</g>\r\n",
       "<!-- Earthquake&#45;&gt;Alarm -->\r\n",
       "<g id=\"edge2\" class=\"edge\"><title>Earthquake&#45;&gt;Alarm</title>\r\n",
       "<path fill=\"none\" stroke=\"black\" d=\"M146.825,-144.411C139.82,-135.655 131.097,-124.751 123.361,-115.082\"/>\r\n",
       "<polygon fill=\"black\" stroke=\"black\" points=\"125.866,-112.61 116.886,-106.988 120.4,-116.983 125.866,-112.61\"/>\r\n",
       "</g>\r\n",
       "</g>\r\n",
       "</svg>\r\n"
      ],
      "text/plain": [
       "<graphviz.dot.Digraph at 0x209b6ab80c8>"
      ]
     },
     "execution_count": 5,
     "metadata": {},
     "output_type": "execute_result"
    }
   ],
   "source": [
    "visualise_bn(bayesnet_alarm)"
   ]
  },
  {
   "cell_type": "code",
   "execution_count": 6,
   "id": "f567777a",
   "metadata": {
    "ExecuteTime": {
     "end_time": "2022-04-11T13:18:32.421475Z",
     "start_time": "2022-04-11T13:18:32.078202Z"
    }
   },
   "outputs": [
    {
     "data": {
      "image/svg+xml": [
       "<?xml version=\"1.0\" encoding=\"UTF-8\" standalone=\"no\"?>\r\n",
       "<!DOCTYPE svg PUBLIC \"-//W3C//DTD SVG 1.1//EN\"\r\n",
       " \"http://www.w3.org/Graphics/SVG/1.1/DTD/svg11.dtd\">\r\n",
       "<!-- Generated by graphviz version 2.38.0 (20140413.2041)\r\n",
       " -->\r\n",
       "<!-- Title: %3 Pages: 1 -->\r\n",
       "<svg width=\"468pt\" height=\"188pt\"\r\n",
       " viewBox=\"0.00 0.00 468.04 188.00\" xmlns=\"http://www.w3.org/2000/svg\" xmlns:xlink=\"http://www.w3.org/1999/xlink\">\r\n",
       "<g id=\"graph0\" class=\"graph\" transform=\"scale(1 1) rotate(0) translate(4 184)\">\r\n",
       "<title>%3</title>\r\n",
       "<polygon fill=\"white\" stroke=\"none\" points=\"-4,4 -4,-184 464.035,-184 464.035,4 -4,4\"/>\r\n",
       "<!-- Visited Mars -->\r\n",
       "<g id=\"node1\" class=\"node\"><title>Visited Mars</title>\r\n",
       "<ellipse fill=\"none\" stroke=\"black\" cx=\"216.694\" cy=\"-162\" rx=\"57.3905\" ry=\"18\"/>\r\n",
       "<text text-anchor=\"middle\" x=\"216.694\" y=\"-158.3\" font-family=\"Times New Roman,serif\" font-size=\"14.00\">Visited Mars</text>\r\n",
       "</g>\r\n",
       "<!-- Martian death flu -->\r\n",
       "<g id=\"node2\" class=\"node\"><title>Martian death flu</title>\r\n",
       "<ellipse fill=\"none\" stroke=\"black\" cx=\"216.694\" cy=\"-90\" rx=\"71.4873\" ry=\"18\"/>\r\n",
       "<text text-anchor=\"middle\" x=\"216.694\" y=\"-86.3\" font-family=\"Times New Roman,serif\" font-size=\"14.00\">Martian death flu</text>\r\n",
       "</g>\r\n",
       "<!-- Visited Mars&#45;&gt;Martian death flu -->\r\n",
       "<g id=\"edge1\" class=\"edge\"><title>Visited Mars&#45;&gt;Martian death flu</title>\r\n",
       "<path fill=\"none\" stroke=\"black\" d=\"M216.694,-143.697C216.694,-135.983 216.694,-126.712 216.694,-118.112\"/>\r\n",
       "<polygon fill=\"black\" stroke=\"black\" points=\"220.194,-118.104 216.694,-108.104 213.194,-118.104 220.194,-118.104\"/>\r\n",
       "</g>\r\n",
       "<!-- Runny nose -->\r\n",
       "<g id=\"node3\" class=\"node\"><title>Runny nose</title>\r\n",
       "<ellipse fill=\"none\" stroke=\"black\" cx=\"181.694\" cy=\"-18\" rx=\"53.8905\" ry=\"18\"/>\r\n",
       "<text text-anchor=\"middle\" x=\"181.694\" y=\"-14.3\" font-family=\"Times New Roman,serif\" font-size=\"14.00\">Runny nose</text>\r\n",
       "</g>\r\n",
       "<!-- Martian death flu&#45;&gt;Runny nose -->\r\n",
       "<g id=\"edge2\" class=\"edge\"><title>Martian death flu&#45;&gt;Runny nose</title>\r\n",
       "<path fill=\"none\" stroke=\"black\" d=\"M208.222,-72.055C204.138,-63.8866 199.15,-53.9116 194.607,-44.8244\"/>\r\n",
       "<polygon fill=\"black\" stroke=\"black\" points=\"197.692,-43.168 190.089,-35.789 191.431,-46.2985 197.692,-43.168\"/>\r\n",
       "</g>\r\n",
       "<!-- Headache -->\r\n",
       "<g id=\"node4\" class=\"node\"><title>Headache</title>\r\n",
       "<ellipse fill=\"none\" stroke=\"black\" cx=\"63.6943\" cy=\"-18\" rx=\"46.2923\" ry=\"18\"/>\r\n",
       "<text text-anchor=\"middle\" x=\"63.6943\" y=\"-14.3\" font-family=\"Times New Roman,serif\" font-size=\"14.00\">Headache</text>\r\n",
       "</g>\r\n",
       "<!-- Martian death flu&#45;&gt;Headache -->\r\n",
       "<g id=\"edge3\" class=\"edge\"><title>Martian death flu&#45;&gt;Headache</title>\r\n",
       "<path fill=\"none\" stroke=\"black\" d=\"M183.872,-73.9832C159.814,-62.9761 127.088,-48.0036 101.861,-36.4621\"/>\r\n",
       "<polygon fill=\"black\" stroke=\"black\" points=\"103.144,-33.1998 92.594,-32.2221 100.231,-39.5652 103.144,-33.1998\"/>\r\n",
       "</g>\r\n",
       "<!-- Spontaneous combustion -->\r\n",
       "<g id=\"node5\" class=\"node\"><title>Spontaneous combustion</title>\r\n",
       "<ellipse fill=\"none\" stroke=\"black\" cx=\"356.694\" cy=\"-18\" rx=\"103.182\" ry=\"18\"/>\r\n",
       "<text text-anchor=\"middle\" x=\"356.694\" y=\"-14.3\" font-family=\"Times New Roman,serif\" font-size=\"14.00\">Spontaneous combustion</text>\r\n",
       "</g>\r\n",
       "<!-- Martian death flu&#45;&gt;Spontaneous combustion -->\r\n",
       "<g id=\"edge4\" class=\"edge\"><title>Martian death flu&#45;&gt;Spontaneous combustion</title>\r\n",
       "<path fill=\"none\" stroke=\"black\" d=\"M247.418,-73.6382C267.279,-63.7076 293.377,-50.6586 315.088,-39.8033\"/>\r\n",
       "<polygon fill=\"black\" stroke=\"black\" points=\"316.714,-42.9035 324.093,-35.3008 313.583,-36.6425 316.714,-42.9035\"/>\r\n",
       "</g>\r\n",
       "<!-- Common cold -->\r\n",
       "<g id=\"node6\" class=\"node\"><title>Common cold</title>\r\n",
       "<ellipse fill=\"none\" stroke=\"black\" cx=\"63.6943\" cy=\"-90\" rx=\"63.8893\" ry=\"18\"/>\r\n",
       "<text text-anchor=\"middle\" x=\"63.6943\" y=\"-86.3\" font-family=\"Times New Roman,serif\" font-size=\"14.00\">Common cold</text>\r\n",
       "</g>\r\n",
       "<!-- Common cold&#45;&gt;Runny nose -->\r\n",
       "<g id=\"edge5\" class=\"edge\"><title>Common cold&#45;&gt;Runny nose</title>\r\n",
       "<path fill=\"none\" stroke=\"black\" d=\"M89.8824,-73.4647C106.921,-63.3574 129.312,-50.0745 147.716,-39.1567\"/>\r\n",
       "<polygon fill=\"black\" stroke=\"black\" points=\"149.575,-42.1236 156.389,-34.0114 146.003,-36.1033 149.575,-42.1236\"/>\r\n",
       "</g>\r\n",
       "<!-- Common cold&#45;&gt;Headache -->\r\n",
       "<g id=\"edge6\" class=\"edge\"><title>Common cold&#45;&gt;Headache</title>\r\n",
       "<path fill=\"none\" stroke=\"black\" d=\"M63.6943,-71.6966C63.6943,-63.9827 63.6943,-54.7125 63.6943,-46.1124\"/>\r\n",
       "<polygon fill=\"black\" stroke=\"black\" points=\"67.1944,-46.1043 63.6943,-36.1043 60.1944,-46.1044 67.1944,-46.1043\"/>\r\n",
       "</g>\r\n",
       "</g>\r\n",
       "</svg>\r\n"
      ],
      "text/plain": [
       "<graphviz.dot.Digraph at 0x209b6ae8148>"
      ]
     },
     "execution_count": 6,
     "metadata": {},
     "output_type": "execute_result"
    }
   ],
   "source": [
    "visualise_bn(bayesnet_mars_medical)"
   ]
  },
  {
   "cell_type": "markdown",
   "id": "8ee5413f",
   "metadata": {},
   "source": [
    "## Iterate through the Bayes net\n",
    "\n",
    "If we want to simulate the Bayes net, we'll need to be able to iterate through it in some way. The function below does this using the approach of maintaining a frontier of states to be explored, and a set of states that have already been explored. The initial frontier is the set of indepedent nodes in the net. As each node is explored its dependencies are added to the frontier, and subsequently explored. \n",
    "\n",
    "For simulation purposes we would want the exploration to be depth-first, since a given node would require all of its parent nodes to be evaluated before we could pick out the conditional probability distribution from which to sample."
   ]
  },
  {
   "cell_type": "markdown",
   "id": "8283f326",
   "metadata": {},
   "source": []
  },
  {
   "cell_type": "code",
   "execution_count": 7,
   "id": "cc3aa700",
   "metadata": {
    "ExecuteTime": {
     "end_time": "2022-04-11T13:18:32.453479Z",
     "start_time": "2022-04-11T13:18:32.425478Z"
    }
   },
   "outputs": [],
   "source": [
    "import pdb\n",
    "def iterate_bn(bn):\n",
    "    explored = set(bn.ind_nodes.copy())\n",
    "    frontier = bn.ind_nodes.copy() # otherwise overwrites attribute\n",
    "    while frontier:\n",
    "        node = frontier.pop()        \n",
    "        next_nodes = bn.deps[node] if node in bn.deps.keys() else []\n",
    "        print(f'at node {node}')\n",
    "        for nn in next_nodes:\n",
    "            if nn not in explored:\n",
    "                print(f'    adding {nn}')\n",
    "                frontier.insert(0, nn) # queue structure for dfs\n",
    "                explored.add(nn)"
   ]
  },
  {
   "cell_type": "markdown",
   "id": "1674589a",
   "metadata": {},
   "source": [
    "Try this on the two nets. "
   ]
  },
  {
   "cell_type": "code",
   "execution_count": 8,
   "id": "13e290ec",
   "metadata": {
    "ExecuteTime": {
     "end_time": "2022-04-11T13:18:32.483494Z",
     "start_time": "2022-04-11T13:18:32.458482Z"
    }
   },
   "outputs": [
    {
     "name": "stdout",
     "output_type": "stream",
     "text": [
      "iterate through alarm net\n",
      "at node E\n",
      "    adding A\n",
      "at node B\n",
      "at node A\n",
      "    adding M\n",
      "    adding J\n",
      "at node M\n",
      "at node J\n",
      "\n",
      "iterate through mars medical net\n",
      "at node C\n",
      "    adding R\n",
      "    adding H\n",
      "at node V\n",
      "    adding M\n",
      "at node R\n",
      "at node H\n",
      "at node M\n",
      "    adding S\n",
      "at node S\n"
     ]
    }
   ],
   "source": [
    "print('iterate through alarm net')\n",
    "iterate_bn(bayesnet_alarm)\n",
    "\n",
    "print('\\niterate through mars medical net')\n",
    "iterate_bn(bayesnet_mars_medical)"
   ]
  },
  {
   "cell_type": "markdown",
   "id": "aa02b797",
   "metadata": {},
   "source": [
    "# Adding probabilities\n",
    "\n",
    "Though conceptually simple, Bayes nets can encode a complex joint probability distribution. To this end, we need to specify the conditional probability distribution at each node (or unconditional for independent nodes). The table below sets out a concise view for the alarm network. This is saved in the local file probs_alarm.csv.\n",
    "\n",
    "This contains the minimal information we need to specify the _probs_ attribute of our _BayesNet_ structure. The general idea is to parse this into an equivalent data structure in Python, as opposed to coding the probabilities directly. The main advantage in this approach is that we can leave it to the user (not necessarily a coder) to specify the input in an intuitve way. The parse functions can also output useful information in the case that the input is not valid. "
   ]
  },
  {
   "cell_type": "code",
   "execution_count": 44,
   "id": "fe0cf428",
   "metadata": {
    "ExecuteTime": {
     "end_time": "2022-04-12T10:33:38.429271Z",
     "start_time": "2022-04-12T10:33:38.395274Z"
    }
   },
   "outputs": [
    {
     "data": {
      "text/html": [
       "<div>\n",
       "<style scoped>\n",
       "    .dataframe tbody tr th:only-of-type {\n",
       "        vertical-align: middle;\n",
       "    }\n",
       "\n",
       "    .dataframe tbody tr th {\n",
       "        vertical-align: top;\n",
       "    }\n",
       "\n",
       "    .dataframe thead th {\n",
       "        text-align: right;\n",
       "    }\n",
       "</style>\n",
       "<table border=\"1\" class=\"dataframe\">\n",
       "  <thead>\n",
       "    <tr style=\"text-align: right;\">\n",
       "      <th></th>\n",
       "      <th>node</th>\n",
       "      <th>value</th>\n",
       "      <th>conditionals</th>\n",
       "      <th>prob</th>\n",
       "    </tr>\n",
       "  </thead>\n",
       "  <tbody>\n",
       "    <tr>\n",
       "      <th>0</th>\n",
       "      <td>B</td>\n",
       "      <td>T</td>\n",
       "      <td>None</td>\n",
       "      <td>0.001</td>\n",
       "    </tr>\n",
       "    <tr>\n",
       "      <th>1</th>\n",
       "      <td>E</td>\n",
       "      <td>T</td>\n",
       "      <td>None</td>\n",
       "      <td>0.002</td>\n",
       "    </tr>\n",
       "    <tr>\n",
       "      <th>2</th>\n",
       "      <td>A</td>\n",
       "      <td>T</td>\n",
       "      <td>B=T;E=T</td>\n",
       "      <td>0.950</td>\n",
       "    </tr>\n",
       "    <tr>\n",
       "      <th>3</th>\n",
       "      <td>A</td>\n",
       "      <td>T</td>\n",
       "      <td>B=T;E=F</td>\n",
       "      <td>0.940</td>\n",
       "    </tr>\n",
       "    <tr>\n",
       "      <th>4</th>\n",
       "      <td>A</td>\n",
       "      <td>T</td>\n",
       "      <td>B=F;E=T</td>\n",
       "      <td>0.290</td>\n",
       "    </tr>\n",
       "    <tr>\n",
       "      <th>5</th>\n",
       "      <td>A</td>\n",
       "      <td>T</td>\n",
       "      <td>B=F;E=F</td>\n",
       "      <td>0.001</td>\n",
       "    </tr>\n",
       "    <tr>\n",
       "      <th>6</th>\n",
       "      <td>J</td>\n",
       "      <td>T</td>\n",
       "      <td>A=T</td>\n",
       "      <td>0.900</td>\n",
       "    </tr>\n",
       "    <tr>\n",
       "      <th>7</th>\n",
       "      <td>J</td>\n",
       "      <td>T</td>\n",
       "      <td>A=F</td>\n",
       "      <td>0.050</td>\n",
       "    </tr>\n",
       "    <tr>\n",
       "      <th>8</th>\n",
       "      <td>M</td>\n",
       "      <td>T</td>\n",
       "      <td>A=T</td>\n",
       "      <td>0.700</td>\n",
       "    </tr>\n",
       "    <tr>\n",
       "      <th>9</th>\n",
       "      <td>M</td>\n",
       "      <td>T</td>\n",
       "      <td>A=F</td>\n",
       "      <td>0.010</td>\n",
       "    </tr>\n",
       "  </tbody>\n",
       "</table>\n",
       "</div>"
      ],
      "text/plain": [
       "  node value conditionals   prob\n",
       "0    B     T         None  0.001\n",
       "1    E     T         None  0.002\n",
       "2    A     T      B=T;E=T  0.950\n",
       "3    A     T      B=T;E=F  0.940\n",
       "4    A     T      B=F;E=T  0.290\n",
       "5    A     T      B=F;E=F  0.001\n",
       "6    J     T          A=T  0.900\n",
       "7    J     T          A=F  0.050\n",
       "8    M     T          A=T  0.700\n",
       "9    M     T          A=F  0.010"
      ]
     },
     "execution_count": 44,
     "metadata": {},
     "output_type": "execute_result"
    }
   ],
   "source": [
    "import pandas as pd\n",
    "df_probs_alarm = pd.read_csv('probs_alarm.csv')\n",
    "df_probs_alarm"
   ]
  },
  {
   "cell_type": "markdown",
   "id": "8e67f202",
   "metadata": {},
   "source": [
    "## Add complentary probabilities\n",
    "From the perspective of a user, we want to be able to specify the minimal information that is needed, as set out above. From the persective of checking that the input is valid, it is useful to have a complete view; for the input set out above, that means we would like to add, explicitly, the complementary rows that represent the _node=F_ events.\n",
    "\n",
    "The function below does this by copying and appending _event=T_ rows, then sorting the table so that complementary events are listed together (not essential but useful in respect of being human-readable)."
   ]
  },
  {
   "cell_type": "code",
   "execution_count": 45,
   "id": "c88aceb9",
   "metadata": {
    "ExecuteTime": {
     "end_time": "2022-04-12T10:33:40.068388Z",
     "start_time": "2022-04-12T10:33:40.031383Z"
    }
   },
   "outputs": [
    {
     "data": {
      "text/html": [
       "<div>\n",
       "<style scoped>\n",
       "    .dataframe tbody tr th:only-of-type {\n",
       "        vertical-align: middle;\n",
       "    }\n",
       "\n",
       "    .dataframe tbody tr th {\n",
       "        vertical-align: top;\n",
       "    }\n",
       "\n",
       "    .dataframe thead th {\n",
       "        text-align: right;\n",
       "    }\n",
       "</style>\n",
       "<table border=\"1\" class=\"dataframe\">\n",
       "  <thead>\n",
       "    <tr style=\"text-align: right;\">\n",
       "      <th></th>\n",
       "      <th>node</th>\n",
       "      <th>value</th>\n",
       "      <th>conditionals</th>\n",
       "      <th>prob</th>\n",
       "    </tr>\n",
       "  </thead>\n",
       "  <tbody>\n",
       "    <tr>\n",
       "      <th>0</th>\n",
       "      <td>A</td>\n",
       "      <td>T</td>\n",
       "      <td>B=F;E=F</td>\n",
       "      <td>0.001</td>\n",
       "    </tr>\n",
       "    <tr>\n",
       "      <th>1</th>\n",
       "      <td>A</td>\n",
       "      <td>F</td>\n",
       "      <td>B=F;E=F</td>\n",
       "      <td>0.999</td>\n",
       "    </tr>\n",
       "    <tr>\n",
       "      <th>2</th>\n",
       "      <td>A</td>\n",
       "      <td>T</td>\n",
       "      <td>B=F;E=T</td>\n",
       "      <td>0.290</td>\n",
       "    </tr>\n",
       "    <tr>\n",
       "      <th>3</th>\n",
       "      <td>A</td>\n",
       "      <td>F</td>\n",
       "      <td>B=F;E=T</td>\n",
       "      <td>0.710</td>\n",
       "    </tr>\n",
       "    <tr>\n",
       "      <th>4</th>\n",
       "      <td>A</td>\n",
       "      <td>T</td>\n",
       "      <td>B=T;E=F</td>\n",
       "      <td>0.940</td>\n",
       "    </tr>\n",
       "    <tr>\n",
       "      <th>5</th>\n",
       "      <td>A</td>\n",
       "      <td>F</td>\n",
       "      <td>B=T;E=F</td>\n",
       "      <td>0.060</td>\n",
       "    </tr>\n",
       "    <tr>\n",
       "      <th>6</th>\n",
       "      <td>A</td>\n",
       "      <td>T</td>\n",
       "      <td>B=T;E=T</td>\n",
       "      <td>0.950</td>\n",
       "    </tr>\n",
       "    <tr>\n",
       "      <th>7</th>\n",
       "      <td>A</td>\n",
       "      <td>F</td>\n",
       "      <td>B=T;E=T</td>\n",
       "      <td>0.050</td>\n",
       "    </tr>\n",
       "    <tr>\n",
       "      <th>8</th>\n",
       "      <td>B</td>\n",
       "      <td>T</td>\n",
       "      <td>None</td>\n",
       "      <td>0.001</td>\n",
       "    </tr>\n",
       "    <tr>\n",
       "      <th>9</th>\n",
       "      <td>B</td>\n",
       "      <td>F</td>\n",
       "      <td>None</td>\n",
       "      <td>0.999</td>\n",
       "    </tr>\n",
       "    <tr>\n",
       "      <th>10</th>\n",
       "      <td>E</td>\n",
       "      <td>T</td>\n",
       "      <td>None</td>\n",
       "      <td>0.002</td>\n",
       "    </tr>\n",
       "    <tr>\n",
       "      <th>11</th>\n",
       "      <td>E</td>\n",
       "      <td>F</td>\n",
       "      <td>None</td>\n",
       "      <td>0.998</td>\n",
       "    </tr>\n",
       "    <tr>\n",
       "      <th>12</th>\n",
       "      <td>J</td>\n",
       "      <td>T</td>\n",
       "      <td>A=F</td>\n",
       "      <td>0.050</td>\n",
       "    </tr>\n",
       "    <tr>\n",
       "      <th>13</th>\n",
       "      <td>J</td>\n",
       "      <td>F</td>\n",
       "      <td>A=F</td>\n",
       "      <td>0.950</td>\n",
       "    </tr>\n",
       "    <tr>\n",
       "      <th>14</th>\n",
       "      <td>J</td>\n",
       "      <td>T</td>\n",
       "      <td>A=T</td>\n",
       "      <td>0.900</td>\n",
       "    </tr>\n",
       "    <tr>\n",
       "      <th>15</th>\n",
       "      <td>J</td>\n",
       "      <td>F</td>\n",
       "      <td>A=T</td>\n",
       "      <td>0.100</td>\n",
       "    </tr>\n",
       "    <tr>\n",
       "      <th>16</th>\n",
       "      <td>M</td>\n",
       "      <td>T</td>\n",
       "      <td>A=F</td>\n",
       "      <td>0.010</td>\n",
       "    </tr>\n",
       "    <tr>\n",
       "      <th>17</th>\n",
       "      <td>M</td>\n",
       "      <td>F</td>\n",
       "      <td>A=F</td>\n",
       "      <td>0.990</td>\n",
       "    </tr>\n",
       "    <tr>\n",
       "      <th>18</th>\n",
       "      <td>M</td>\n",
       "      <td>T</td>\n",
       "      <td>A=T</td>\n",
       "      <td>0.700</td>\n",
       "    </tr>\n",
       "    <tr>\n",
       "      <th>19</th>\n",
       "      <td>M</td>\n",
       "      <td>F</td>\n",
       "      <td>A=T</td>\n",
       "      <td>0.300</td>\n",
       "    </tr>\n",
       "  </tbody>\n",
       "</table>\n",
       "</div>"
      ],
      "text/plain": [
       "   node value conditionals   prob\n",
       "0     A     T      B=F;E=F  0.001\n",
       "1     A     F      B=F;E=F  0.999\n",
       "2     A     T      B=F;E=T  0.290\n",
       "3     A     F      B=F;E=T  0.710\n",
       "4     A     T      B=T;E=F  0.940\n",
       "5     A     F      B=T;E=F  0.060\n",
       "6     A     T      B=T;E=T  0.950\n",
       "7     A     F      B=T;E=T  0.050\n",
       "8     B     T         None  0.001\n",
       "9     B     F         None  0.999\n",
       "10    E     T         None  0.002\n",
       "11    E     F         None  0.998\n",
       "12    J     T          A=F  0.050\n",
       "13    J     F          A=F  0.950\n",
       "14    J     T          A=T  0.900\n",
       "15    J     F          A=T  0.100\n",
       "16    M     T          A=F  0.010\n",
       "17    M     F          A=F  0.990\n",
       "18    M     T          A=T  0.700\n",
       "19    M     F          A=T  0.300"
      ]
     },
     "execution_count": 45,
     "metadata": {},
     "output_type": "execute_result"
    }
   ],
   "source": [
    "def add_complementary_probs_binary_discrete(df_probs):\n",
    "    \"\"\"\n",
    "    input: dataframe with rows that represent event=T\n",
    "    output: dataframe appended with complementary event=F rows\n",
    "    \"\"\"\n",
    "    df_probs_compl = df_probs[df_probs.value == 'T']\n",
    "    df_probs_compl.value = 'F'\n",
    "    df_probs_compl.prob = 1 - df_probs_compl.prob\n",
    "    df_probs = df_probs.append(df_probs_compl).sort_values(by=['node', 'conditionals']).reset_index(drop=True)\n",
    "    \n",
    "    return df_probs\n",
    "    \n",
    "df_probs_alarm = add_complementary_probs_binary_discrete(df_probs_alarm)\n",
    "df_probs_alarm"
   ]
  },
  {
   "cell_type": "markdown",
   "id": "1a9c3b12",
   "metadata": {},
   "source": [
    "## Check that the probability input is valid\n",
    "\n",
    "This is mostly common sense, and if we can outline the logic, we can then encode those checks within the parsing functions that convert the CSV input to an equivalent Python data structure.\n",
    "\n",
    "We start with a given Bayes net that is in effect a schema against which to validate. We can split the checks into high-level checks and per-node ones as below.\n",
    "\n",
    "_High-level_\n",
    "- All probabilities lie between zero and one\n",
    "- The unique set of nodes is consistent with the Bayes net\n",
    "- Conditionals are either None or a semi-colon separated list of _node=value_ pairs\n",
    "\n",
    "_Per node_\n",
    "- If the node is independent, as specified in the Bayes net, then\n",
    "    - all the corresponding rows have _conditionals=None_\n",
    "    - all of the possible values are listed\n",
    "    - the probabilities sum to one\n",
    "- If the node is dependent, as specified in the Bayes net, then\n",
    "    - all the corresponding rows do not have _conditionals=None_\n",
    "    - all enumerations of the parent nodes are listed as separate rows e.g. TT, TF, FT, FF for a node with two binary parents\n",
    "    - all of the possible values are listed, per enumeration of the parent nodes\n",
    "    - the probabilities sum to one, per enumeration of the parent nodes\n",
    "  "
   ]
  },
  {
   "cell_type": "code",
   "execution_count": 100,
   "id": "6bc42e0d",
   "metadata": {
    "ExecuteTime": {
     "end_time": "2022-04-13T13:57:12.181901Z",
     "start_time": "2022-04-13T13:57:12.165901Z"
    }
   },
   "outputs": [
    {
     "name": "stdout",
     "output_type": "stream",
     "text": [
      "high-level checks ok\n",
      "per node checks ok\n"
     ]
    }
   ],
   "source": [
    "def validate_probs(df_probs, bn):\n",
    "    # high-level\n",
    "    #     All probabilities lie between zero and one\n",
    "    #     The unique set of nodes is consistent with the Bayes net\n",
    "    #     Conditionals are either None or a semi-colon separated list of node=value pairs\n",
    "    assert all(df_probs['prob'] >= 0)\n",
    "    assert all(df_probs['prob'] <= 1)\n",
    "    assert sorted(list(set(df_probs['node']))) == sorted(list(bn.names.keys()))\n",
    "    csv_list_dep_nodes = ','.join(bn.deps.keys())\n",
    "    assert all(df_probs.conditionals.str.match(f'None|([{csv_list_dep_nodes}]=.*)(;[{csv_list_dep_nodes}]=.*)*'))\n",
    "    print('high-level checks ok')\n",
    "\n",
    "    # per node\n",
    "    # If the node is independent, as specified in the Bayes net, then\n",
    "    #     all the corresponding rows have _conditionals=None_\n",
    "    #     all of the possible values are listed\n",
    "    #     the probabilities sum to one\n",
    "    # If the node is dependent, as specified in the Bayes net, then\n",
    "    #     all the corresponding rows do not have _conditionals=None_\n",
    "    #     all enumerations of the parent nodes are listed as separate rows e.g. TT, TF, FT, FF for a node with two binary parents\n",
    "    #     all of the possible values are listed, per enumeration of the parent nodes\n",
    "    #     the probabilities sum to one, per enumeration of the parent nodes\n",
    "    \n",
    "    \n",
    "    \n",
    "    \n",
    "    print('per node checks ok')\n",
    "    \n",
    "    \n",
    "validate_probs(df_probs_alarm, bayesnet_alarm)    \n",
    "\n"
   ]
  },
  {
   "cell_type": "code",
   "execution_count": 74,
   "id": "dcd529b2",
   "metadata": {
    "ExecuteTime": {
     "end_time": "2022-04-13T13:29:51.158027Z",
     "start_time": "2022-04-13T13:29:51.143037Z"
    }
   },
   "outputs": [
    {
     "data": {
      "text/plain": [
       "False"
      ]
     },
     "execution_count": 74,
     "metadata": {},
     "output_type": "execute_result"
    }
   ],
   "source": []
  },
  {
   "cell_type": "code",
   "execution_count": 54,
   "id": "d38656d0",
   "metadata": {
    "ExecuteTime": {
     "end_time": "2022-04-12T18:44:46.451719Z",
     "start_time": "2022-04-12T18:44:46.422716Z"
    }
   },
   "outputs": [
    {
     "data": {
      "text/plain": [
       "[{'B': 'F', 'E': 'F'},\n",
       " {'B': 'F', 'E': 'F'},\n",
       " {'B': 'F', 'E': 'T'},\n",
       " {'B': 'F', 'E': 'T'},\n",
       " {'B': 'T', 'E': 'F'},\n",
       " {'B': 'T', 'E': 'F'},\n",
       " {'B': 'T', 'E': 'T'},\n",
       " {'B': 'T', 'E': 'T'},\n",
       " None,\n",
       " None,\n",
       " None,\n",
       " None,\n",
       " {'A': 'F'},\n",
       " {'A': 'F'},\n",
       " {'A': 'T'},\n",
       " {'A': 'T'},\n",
       " {'A': 'F'},\n",
       " {'A': 'F'},\n",
       " {'A': 'T'},\n",
       " {'A': 'T'}]"
      ]
     },
     "execution_count": 54,
     "metadata": {},
     "output_type": "execute_result"
    }
   ],
   "source": [
    "def parse_conditionals(conditional):\n",
    "    if conditional == 'None':\n",
    "        return None\n",
    "    \n",
    "    cond_nodes = {}\n",
    "    parent_node_value_pairs = [x.split('=') for x in conditional.split(';')]\n",
    "    for parent_node_value in parent_node_value_pairs:\n",
    "        parent_node = parent_node_value[0]\n",
    "        value = parent_node_value[1]\n",
    "        cond_nodes[parent_node] = value\n",
    "    \n",
    "    return cond_nodes\n",
    "\n",
    "[parse_conditionals(cond) for cond in df_probs_alarm['conditionals']]\n"
   ]
  },
  {
   "cell_type": "code",
   "execution_count": null,
   "id": "92d84dcd",
   "metadata": {},
   "outputs": [],
   "source": []
  },
  {
   "cell_type": "markdown",
   "id": "0fd5821f",
   "metadata": {},
   "source": [
    "# Simulating a Bayes net"
   ]
  },
  {
   "cell_type": "code",
   "execution_count": 102,
   "id": "0c583984",
   "metadata": {
    "ExecuteTime": {
     "end_time": "2022-04-14T18:11:22.738794Z",
     "start_time": "2022-04-14T18:11:22.723800Z"
    }
   },
   "outputs": [
    {
     "name": "stdout",
     "output_type": "stream",
     "text": [
      "at node E\n",
      "    adding A\n",
      "at node B\n",
      "at node A\n",
      "    adding M\n",
      "    adding J\n",
      "at node M\n",
      "at node J\n"
     ]
    }
   ],
   "source": [
    "def simulate_bn(bn):\n",
    "    explored = set(bn.ind_nodes.copy())\n",
    "    frontier = bn.ind_nodes.copy() # otherwise overwrites attribute\n",
    "    while frontier:\n",
    "        \n",
    "        # pop node and simulate\n",
    "        node = frontier.pop()  \n",
    "        \n",
    "        # add next nodes to frontier and explored, if not already explored\n",
    "        next_nodes = bn.deps[node] if node in bn.deps.keys() else []\n",
    "        print(f'at node {node}')\n",
    "        for nn in next_nodes:\n",
    "            if nn not in explored:\n",
    "                print(f'    adding {nn}')\n",
    "                frontier.insert(0, nn) # queue structure for dfs\n",
    "                explored.add(nn)\n",
    "                \n",
    "                \n",
    "                \n",
    "                \n",
    "simulate_bn(bayesnet_alarm)"
   ]
  },
  {
   "cell_type": "code",
   "execution_count": null,
   "id": "71d929df",
   "metadata": {},
   "outputs": [],
   "source": []
  }
 ],
 "metadata": {
  "kernelspec": {
   "display_name": "Python 3 (ipykernel)",
   "language": "python",
   "name": "python3"
  },
  "language_info": {
   "codemirror_mode": {
    "name": "ipython",
    "version": 3
   },
   "file_extension": ".py",
   "mimetype": "text/x-python",
   "name": "python",
   "nbconvert_exporter": "python",
   "pygments_lexer": "ipython3",
   "version": "3.7.11"
  },
  "toc": {
   "base_numbering": 1,
   "nav_menu": {},
   "number_sections": true,
   "sideBar": true,
   "skip_h1_title": false,
   "title_cell": "Table of Contents",
   "title_sidebar": "Contents",
   "toc_cell": false,
   "toc_position": {
    "height": "calc(100% - 180px)",
    "left": "10px",
    "top": "150px",
    "width": "426.667px"
   },
   "toc_section_display": true,
   "toc_window_display": true
  },
  "varInspector": {
   "cols": {
    "lenName": 16,
    "lenType": 16,
    "lenVar": 40
   },
   "kernels_config": {
    "python": {
     "delete_cmd_postfix": "",
     "delete_cmd_prefix": "del ",
     "library": "var_list.py",
     "varRefreshCmd": "print(var_dic_list())"
    },
    "r": {
     "delete_cmd_postfix": ") ",
     "delete_cmd_prefix": "rm(",
     "library": "var_list.r",
     "varRefreshCmd": "cat(var_dic_list()) "
    }
   },
   "types_to_exclude": [
    "module",
    "function",
    "builtin_function_or_method",
    "instance",
    "_Feature"
   ],
   "window_display": false
  }
 },
 "nbformat": 4,
 "nbformat_minor": 5
}
